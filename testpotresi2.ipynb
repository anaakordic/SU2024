{
 "cells": [
  {
   "cell_type": "code",
   "execution_count": 2,
   "metadata": {},
   "outputs": [
    {
     "name": "stdout",
     "output_type": "stream",
     "text": [
      "                      Time  Magnitude                        Place  Latitude  \\\n",
      "0  2023-09-04 05:26:08.839        4.8  11 km SSW of Özdere, Turkey   37.9198   \n",
      "1  2023-08-29 04:58:15.305        4.8                          NaN   38.9659   \n",
      "2  2023-08-27 03:09:43.247        4.4  9 km NNW of Émponas, Greece   36.3079   \n",
      "3  2023-08-24 05:35:24.510        4.8                          NaN   38.2125   \n",
      "4  2023-08-23 08:19:30.701        4.3               eastern Turkey   39.2741   \n",
      "\n",
      "   Longitude   Depth  \n",
      "0    27.0744  10.000  \n",
      "1    32.9248   7.489  \n",
      "2    27.8301  69.004  \n",
      "3    38.1815  10.000  \n",
      "4    40.3563  10.000  \n",
      "<class 'pandas.core.frame.DataFrame'>\n",
      "RangeIndex: 19248 entries, 0 to 19247\n",
      "Data columns (total 6 columns):\n",
      " #   Column     Non-Null Count  Dtype  \n",
      "---  ------     --------------  -----  \n",
      " 0   Time       19248 non-null  object \n",
      " 1   Magnitude  17486 non-null  float64\n",
      " 2   Place      19216 non-null  object \n",
      " 3   Latitude   19248 non-null  float64\n",
      " 4   Longitude  19248 non-null  float64\n",
      " 5   Depth      19248 non-null  float64\n",
      "dtypes: float64(4), object(2)\n",
      "memory usage: 902.4+ KB\n",
      "None\n",
      "          Magnitude      Latitude     Longitude         Depth\n",
      "count  17486.000000  19248.000000  19248.000000  19248.000000\n",
      "mean       3.290095     38.908337     29.726278     13.834193\n",
      "std        0.701186      1.335768      4.016861     16.904587\n",
      "min        0.000000     36.000000     26.000000      0.000000\n",
      "25%        2.800000     38.051675     27.551750     10.000000\n",
      "50%        3.100000     39.117000     28.447500     10.000000\n",
      "75%        3.700000     39.725000     29.641250     10.000000\n",
      "max        7.800000     41.991800     44.986000    176.000000\n"
     ]
    }
   ],
   "source": [
    "# Import necessary libraries\n",
    "import pandas as pd\n",
    "import numpy as np\n",
    "import torch\n",
    "import torch.nn as nn\n",
    "import torch.optim as optim\n",
    "from torch.utils.data import DataLoader, Dataset\n",
    "from sklearn.model_selection import train_test_split\n",
    "from sklearn.preprocessing import StandardScaler\n",
    "from sklearn.metrics import mean_squared_error, r2_score\n",
    "import matplotlib.pyplot as plt\n",
    "\n",
    "# Load the dataset\n",
    "data = pd.read_csv('earthquakes.csv')\n",
    "\n",
    "# Display the first few rows of the dataset\n",
    "print(data.head())\n",
    "\n",
    "# Data exploration\n",
    "print(data.info())\n",
    "print(data.describe())"
   ]
  },
  {
   "cell_type": "code",
   "execution_count": 3,
   "metadata": {},
   "outputs": [],
   "source": [
    "data['Time'] = pd.to_datetime(data['Time'])\n",
    "data.isnull().sum()  # Check for missing values\n",
    "data.dropna(inplace=True)  # Drop rows with missing values\n"
   ]
  },
  {
   "cell_type": "code",
   "execution_count": 4,
   "metadata": {},
   "outputs": [],
   "source": [
    "from sklearn.preprocessing import StandardScaler\n",
    "\n",
    "scaler = StandardScaler()\n",
    "numerical_features = ['Magnitude', 'Depth', 'Latitude', 'Longitude']\n",
    "data[numerical_features] = scaler.fit_transform(data[numerical_features])\n"
   ]
  },
  {
   "cell_type": "code",
   "execution_count": 5,
   "metadata": {},
   "outputs": [],
   "source": [
    "# Define categories based on magnitude\n",
    "def categorize_magnitude(magnitude):\n",
    "    if magnitude <= 4.0:\n",
    "        return 0  # Low magnitude\n",
    "    elif magnitude <= 6.0:\n",
    "        return 1  # Moderate magnitude\n",
    "    else:\n",
    "        return 2  # High magnitude\n",
    "\n",
    "# Apply the function to create a new column 'Category'\n",
    "data['Category'] = data['Magnitude'].apply(categorize_magnitude)\n"
   ]
  },
  {
   "cell_type": "code",
   "execution_count": 6,
   "metadata": {},
   "outputs": [],
   "source": [
    "import torch\n",
    "from torch.utils.data import DataLoader, TensorDataset\n",
    "\n",
    "# Convert dataframe to PyTorch tensors\n",
    "X = torch.tensor(data[numerical_features].values, dtype=torch.float32)\n",
    "y = torch.tensor(data['Category'].values, dtype=torch.long)\n",
    "\n",
    "# Create a dataset and data loader\n",
    "dataset = TensorDataset(X, y)\n",
    "dataloader = DataLoader(dataset, batch_size=32, shuffle=True)\n"
   ]
  },
  {
   "cell_type": "code",
   "execution_count": 7,
   "metadata": {},
   "outputs": [],
   "source": [
    "import torch.nn as nn\n",
    "import torch.optim as optim\n",
    "\n",
    "# Define the neural network\n",
    "class EarthquakeClassifier(nn.Module):\n",
    "    def __init__(self):\n",
    "        super(EarthquakeClassifier, self).__init__()\n",
    "        self.fc1 = nn.Linear(len(numerical_features), 64)\n",
    "        self.fc2 = nn.Linear(64, 32)\n",
    "        self.fc3 = nn.Linear(32, 3)  # 3 classes\n",
    "\n",
    "    def forward(self, x):\n",
    "        x = torch.relu(self.fc1(x))\n",
    "        x = torch.relu(self.fc2(x))\n",
    "        x = self.fc3(x)\n",
    "        return x\n",
    "\n",
    "# Instantiate the model, define the loss function and the optimizer\n",
    "model = EarthquakeClassifier()\n",
    "criterion = nn.CrossEntropyLoss()\n",
    "optimizer = optim.Adam(model.parameters(), lr=0.001)\n"
   ]
  },
  {
   "cell_type": "code",
   "execution_count": 8,
   "metadata": {},
   "outputs": [
    {
     "name": "stdout",
     "output_type": "stream",
     "text": [
      "Epoch 1/20, Loss: 0.0014465557178482413\n",
      "Epoch 2/20, Loss: 0.00012695624900516123\n",
      "Epoch 3/20, Loss: 1.186960162158357e-05\n",
      "Epoch 4/20, Loss: 1.1495151284179883e-06\n",
      "Epoch 5/20, Loss: 0.001002632430754602\n",
      "Epoch 6/20, Loss: 4.376564447738929e-06\n",
      "Epoch 7/20, Loss: 2.6140646696148906e-06\n",
      "Epoch 8/20, Loss: 6.897076332279539e-07\n",
      "Epoch 9/20, Loss: 2.6396310204290785e-07\n",
      "Epoch 10/20, Loss: 1.5497042795686866e-06\n",
      "Epoch 11/20, Loss: 1.4560415593223297e-06\n",
      "Epoch 12/20, Loss: 3.150526879380777e-07\n",
      "Epoch 13/20, Loss: 1.0217934942602369e-07\n",
      "Epoch 14/20, Loss: 0.004569909535348415\n",
      "Epoch 15/20, Loss: 4.087164029442647e-07\n",
      "Epoch 16/20, Loss: 0.0\n",
      "Epoch 17/20, Loss: 0.0\n",
      "Epoch 18/20, Loss: 0.0\n",
      "Epoch 19/20, Loss: 0.0\n",
      "Epoch 20/20, Loss: 0.0\n"
     ]
    }
   ],
   "source": [
    "# Training loop\n",
    "num_epochs = 20\n",
    "\n",
    "for epoch in range(num_epochs):\n",
    "    for inputs, labels in dataloader:\n",
    "        # Zero the parameter gradients\n",
    "        optimizer.zero_grad()\n",
    "\n",
    "        # Forward pass\n",
    "        outputs = model(inputs)\n",
    "        loss = criterion(outputs, labels)\n",
    "        \n",
    "        # Backward pass and optimize\n",
    "        loss.backward()\n",
    "        optimizer.step()\n",
    "\n",
    "    print(f'Epoch {epoch+1}/{num_epochs}, Loss: {loss.item()}')\n"
   ]
  },
  {
   "cell_type": "code",
   "execution_count": 9,
   "metadata": {},
   "outputs": [
    {
     "name": "stdout",
     "output_type": "stream",
     "text": [
      "Accuracy: 0.9999427065429128\n",
      "Precision: 0.9999457219880226\n",
      "Recall: 0.9999427065429128\n",
      "F1 Score: 0.9999434799571723\n"
     ]
    }
   ],
   "source": [
    "from sklearn.metrics import accuracy_score, precision_recall_fscore_support\n",
    "\n",
    "# Get predictions\n",
    "model.eval()  # Set the model to evaluation mode\n",
    "with torch.no_grad():\n",
    "    predictions = model(X).argmax(dim=1)\n",
    "\n",
    "# Calculate metrics\n",
    "accuracy = accuracy_score(y, predictions)\n",
    "precision, recall, f1, _ = precision_recall_fscore_support(y, predictions, average='weighted')\n",
    "\n",
    "print(f'Accuracy: {accuracy}')\n",
    "print(f'Precision: {precision}')\n",
    "print(f'Recall: {recall}')\n",
    "print(f'F1 Score: {f1}')\n"
   ]
  },
  {
   "cell_type": "code",
   "execution_count": 10,
   "metadata": {},
   "outputs": [],
   "source": [
    "from sklearn.model_selection import train_test_split\n",
    "from sklearn.preprocessing import StandardScaler\n",
    "\n",
    "# Prepare the data\n",
    "X = data[numerical_features]\n",
    "y = data['Category']\n",
    "\n",
    "# Split the data into training and test sets\n",
    "X_train, X_test, y_train, y_test = train_test_split(X, y, test_size=0.2, random_state=42)\n",
    "\n",
    "# Normalize the data\n",
    "scaler = StandardScaler()\n",
    "X_train = scaler.fit_transform(X_train)\n",
    "X_test = scaler.transform(X_test)\n"
   ]
  },
  {
   "cell_type": "code",
   "execution_count": 11,
   "metadata": {},
   "outputs": [
    {
     "name": "stdout",
     "output_type": "stream",
     "text": [
      "Logistic Regression Accuracy: 1.0\n",
      "Logistic Regression Report:\n",
      "              precision    recall  f1-score   support\n",
      "\n",
      "           0       1.00      1.00      1.00      3489\n",
      "           1       1.00      1.00      1.00         2\n",
      "\n",
      "    accuracy                           1.00      3491\n",
      "   macro avg       1.00      1.00      1.00      3491\n",
      "weighted avg       1.00      1.00      1.00      3491\n",
      "\n"
     ]
    }
   ],
   "source": [
    "from sklearn.linear_model import LogisticRegression\n",
    "from sklearn.metrics import accuracy_score, classification_report\n",
    "\n",
    "# Logistic Regression\n",
    "log_reg = LogisticRegression()\n",
    "log_reg.fit(X_train, y_train)\n",
    "\n",
    "# Predictions and evaluation\n",
    "y_pred_log_reg = log_reg.predict(X_test)\n",
    "accuracy_log_reg = accuracy_score(y_test, y_pred_log_reg)\n",
    "report_log_reg = classification_report(y_test, y_pred_log_reg)\n",
    "\n",
    "print(f'Logistic Regression Accuracy: {accuracy_log_reg}')\n",
    "print(f'Logistic Regression Report:\\n{report_log_reg}')\n"
   ]
  },
  {
   "cell_type": "code",
   "execution_count": 12,
   "metadata": {},
   "outputs": [
    {
     "name": "stdout",
     "output_type": "stream",
     "text": [
      "KNN Accuracy: 0.9997135491263248\n",
      "KNN Report:\n",
      "              precision    recall  f1-score   support\n",
      "\n",
      "           0       1.00      1.00      1.00      3489\n",
      "           1       1.00      0.50      0.67         2\n",
      "\n",
      "    accuracy                           1.00      3491\n",
      "   macro avg       1.00      0.75      0.83      3491\n",
      "weighted avg       1.00      1.00      1.00      3491\n",
      "\n"
     ]
    }
   ],
   "source": [
    "from sklearn.neighbors import KNeighborsClassifier\n",
    "\n",
    "# KNN\n",
    "knn = KNeighborsClassifier(n_neighbors=5)\n",
    "knn.fit(X_train, y_train)\n",
    "\n",
    "# Predictions and evaluation\n",
    "y_pred_knn = knn.predict(X_test)\n",
    "accuracy_knn = accuracy_score(y_test, y_pred_knn)\n",
    "report_knn = classification_report(y_test, y_pred_knn)\n",
    "\n",
    "print(f'KNN Accuracy: {accuracy_knn}')\n",
    "print(f'KNN Report:\\n{report_knn}')\n"
   ]
  },
  {
   "cell_type": "code",
   "execution_count": 13,
   "metadata": {},
   "outputs": [
    {
     "name": "stdout",
     "output_type": "stream",
     "text": [
      "SVM Accuracy: 1.0\n",
      "SVM Report:\n",
      "              precision    recall  f1-score   support\n",
      "\n",
      "           0       1.00      1.00      1.00      3489\n",
      "           1       1.00      1.00      1.00         2\n",
      "\n",
      "    accuracy                           1.00      3491\n",
      "   macro avg       1.00      1.00      1.00      3491\n",
      "weighted avg       1.00      1.00      1.00      3491\n",
      "\n"
     ]
    }
   ],
   "source": [
    "from sklearn.svm import SVC\n",
    "\n",
    "# SVM\n",
    "svm = SVC()\n",
    "svm.fit(X_train, y_train)\n",
    "\n",
    "# Predictions and evaluation\n",
    "y_pred_svm = svm.predict(X_test)\n",
    "accuracy_svm = accuracy_score(y_test, y_pred_svm)\n",
    "report_svm = classification_report(y_test, y_pred_svm)\n",
    "\n",
    "print(f'SVM Accuracy: {accuracy_svm}')\n",
    "print(f'SVM Report:\\n{report_svm}')\n"
   ]
  },
  {
   "cell_type": "code",
   "execution_count": null,
   "metadata": {},
   "outputs": [],
   "source": []
  }
 ],
 "metadata": {
  "kernelspec": {
   "display_name": "Python 3",
   "language": "python",
   "name": "python3"
  },
  "language_info": {
   "codemirror_mode": {
    "name": "ipython",
    "version": 3
   },
   "file_extension": ".py",
   "mimetype": "text/x-python",
   "name": "python",
   "nbconvert_exporter": "python",
   "pygments_lexer": "ipython3",
   "version": "3.12.3"
  }
 },
 "nbformat": 4,
 "nbformat_minor": 2
}
