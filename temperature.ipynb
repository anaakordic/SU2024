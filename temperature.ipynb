{
 "cells": [
  {
   "cell_type": "code",
   "execution_count": 13,
   "metadata": {},
   "outputs": [
    {
     "name": "stdout",
     "output_type": "stream",
     "text": [
      "       Unnamed: 0  2023  Unnamed: 2       Unnamed: 3       Unnamed: 4  2022  \\\n",
      "0  Country / Area   1.0        12.0  Absolute Change  Relative Change  1.00   \n",
      "1     Afghanistan  -3.1         3.1              6.2             200%  0.92   \n",
      "2         Albania   2.4         2.4                0               2% -0.22   \n",
      "3         Algeria   0.3         0.9              0.6             209% -0.39   \n",
      "4    Ameran Samoa  -0.3         0.1              0.4             147%  0.28   \n",
      "\n",
      "   Unnamed: 6       Unnamed: 7       Unnamed: 8  2021  ...     Unnamed: 207  \\\n",
      "0       12.00  Absolute Change  Relative Change  1.00  ...  Absolute Change   \n",
      "1        0.23            -0.69             -75%  0.24  ...             -1.3   \n",
      "2        3.92             4.14            1874%  1.36  ...            -2.23   \n",
      "3        3.69             4.09            1039%  2.39  ...            -1.96   \n",
      "4       -0.26            -0.54            -194% -0.24  ...             0.71   \n",
      "\n",
      "      Unnamed: 208  1971  Unnamed: 210     Unnamed: 211     Unnamed: 212  \\\n",
      "0  Relative Change  1.00         12.00  Absolute Change  Relative Change   \n",
      "1             -77% -1.48          2.92              4.4             297%   \n",
      "2            -173%  2.44         -0.92            -3.36            -138%   \n",
      "3            -382%  0.01         -0.56            -0.57           -5760%   \n",
      "4              87% -0.61         -0.61             0.01               1%   \n",
      "\n",
      "   1970  Unnamed: 214     Unnamed: 215     Unnamed: 216  \n",
      "0  1.00         12.00  Absolute Change  Relative Change  \n",
      "1 -0.38          0.18             0.55             147%  \n",
      "2  1.91          0.36            -1.55             -81%  \n",
      "3  2.47         -0.52            -2.99            -121%  \n",
      "4  0.08         -0.72            -0.81            -960%  \n",
      "\n",
      "[5 rows x 217 columns]\n",
      "             2023  Unnamed: 2        2022  Unnamed: 6        2021  \\\n",
      "count  196.000000  196.000000  196.000000  196.000000  196.000000   \n",
      "mean     0.683673    1.279592    0.449694    0.531429    0.408010   \n",
      "std      1.400234    1.423535    0.844210    1.624478    1.109232   \n",
      "min     -4.200000   -3.000000   -1.650000   -4.180000   -3.260000   \n",
      "25%     -0.100000    0.600000   -0.070000   -0.167500   -0.220000   \n",
      "50%      0.400000    1.100000    0.360000    0.265000    0.275000   \n",
      "75%      1.225000    1.900000    0.805000    1.320000    1.000000   \n",
      "max      5.100000   12.000000    3.030000   12.000000    5.040000   \n",
      "\n",
      "       Unnamed: 10        2020  Unnamed: 14        2019  Unnamed: 18  ...  \\\n",
      "count   196.000000  196.000000   196.000000  196.000000   196.000000  ...   \n",
      "mean      0.672143    0.832041     0.660867    0.326939     1.009184  ...   \n",
      "std       1.315974    1.284058     1.490022    0.952708     1.308106  ...   \n",
      "min      -3.830000   -1.790000    -4.620000   -2.630000    -2.220000  ...   \n",
      "25%       0.222500    0.212500     0.027500   -0.250000     0.340000  ...   \n",
      "50%       0.650000    0.585000     0.390000    0.375000     0.710000  ...   \n",
      "75%       1.190000    1.000000     1.262500    0.820000     1.477500  ...   \n",
      "max      12.000000    6.300000    12.000000    3.910000    12.000000  ...   \n",
      "\n",
      "             1974  Unnamed: 198        1973  Unnamed: 202        1972  \\\n",
      "count  196.000000    196.000000  196.000000    196.000000  196.000000   \n",
      "mean    -0.826071     -0.667347   -0.444949     -1.181837   -1.259184   \n",
      "std      1.393862      1.744593    1.317059      1.391367    1.925664   \n",
      "min     -5.580000     -8.060000   -4.740000     -6.180000   -8.190000   \n",
      "25%     -1.492500     -1.410000   -0.972500     -1.692500   -1.660000   \n",
      "50%     -0.950000     -0.890000   -0.170000     -1.180000   -0.830000   \n",
      "75%     -0.097500     -0.420000    0.227500     -0.747500   -0.400000   \n",
      "max      2.590000     12.000000    3.520000     12.000000    4.400000   \n",
      "\n",
      "       Unnamed: 206        1971  Unnamed: 210        1970  Unnamed: 214  \n",
      "count    196.000000  196.000000    196.000000  196.000000    196.000000  \n",
      "mean      -0.466837   -0.681531     -0.502653   -0.528520     -0.839235  \n",
      "std        1.719041    1.152653      1.679081    1.458998      1.319279  \n",
      "min       -5.990000   -5.750000     -6.250000   -6.980000     -5.170000  \n",
      "25%       -1.012500   -1.275000     -1.235000   -0.990000     -1.172500  \n",
      "50%       -0.290000   -0.790000     -0.750000   -0.400000     -0.775000  \n",
      "75%        0.112500   -0.255000      0.002500    0.232500     -0.350000  \n",
      "max       12.000000    2.560000     12.000000    2.470000     12.000000  \n",
      "\n",
      "[8 rows x 108 columns]\n",
      "Unnamed: 0      1\n",
      "2023            1\n",
      "Unnamed: 2      1\n",
      "Unnamed: 3      1\n",
      "Unnamed: 4      1\n",
      "               ..\n",
      "Unnamed: 212    1\n",
      "1970            1\n",
      "Unnamed: 214    1\n",
      "Unnamed: 215    1\n",
      "Unnamed: 216    1\n",
      "Length: 217, dtype: int64\n"
     ]
    }
   ],
   "source": [
    "import pandas as pd\n",
    "\n",
    "# Učitavanje podataka\n",
    "data = pd.read_csv('surface temperature anomalies by year.csv')\n",
    "\n",
    "# Prikaz prvih nekoliko redaka\n",
    "print(data.head())\n",
    "\n",
    "# Prikaz osnovnih statistika\n",
    "print(data.describe())\n",
    "\n",
    "# Provjera null vrijednosti\n",
    "print(data.isnull().sum())\n"
   ]
  },
  {
   "cell_type": "code",
   "execution_count": 14,
   "metadata": {},
   "outputs": [
    {
     "ename": "KeyError",
     "evalue": "\"None of [Index(['Anomalies'], dtype='object')] are in the [columns]\"",
     "output_type": "error",
     "traceback": [
      "\u001b[1;31m---------------------------------------------------------------------------\u001b[0m",
      "\u001b[1;31mKeyError\u001b[0m                                  Traceback (most recent call last)",
      "Cell \u001b[1;32mIn[14], line 5\u001b[0m\n\u001b[0;32m      2\u001b[0m \u001b[38;5;28;01mfrom\u001b[39;00m \u001b[38;5;21;01msklearn\u001b[39;00m\u001b[38;5;21;01m.\u001b[39;00m\u001b[38;5;21;01mmodel_selection\u001b[39;00m \u001b[38;5;28;01mimport\u001b[39;00m train_test_split\n\u001b[0;32m      4\u001b[0m \u001b[38;5;66;03m# Pretpostavimo da se podaci nalaze u stupcu 'Anomalies'\u001b[39;00m\n\u001b[1;32m----> 5\u001b[0m X \u001b[38;5;241m=\u001b[39m \u001b[43mdata\u001b[49m\u001b[43m[\u001b[49m\u001b[43m[\u001b[49m\u001b[38;5;124;43m'\u001b[39;49m\u001b[38;5;124;43mAnomalies\u001b[39;49m\u001b[38;5;124;43m'\u001b[39;49m\u001b[43m]\u001b[49m\u001b[43m]\u001b[49m\u001b[38;5;241m.\u001b[39mvalues\n\u001b[0;32m      7\u001b[0m \u001b[38;5;66;03m# Normalizacija podataka\u001b[39;00m\n\u001b[0;32m      8\u001b[0m scaler \u001b[38;5;241m=\u001b[39m StandardScaler()\n",
      "File \u001b[1;32mc:\\Users\\akord\\AppData\\Local\\Programs\\Python\\Python312\\Lib\\site-packages\\pandas\\core\\frame.py:4096\u001b[0m, in \u001b[0;36mDataFrame.__getitem__\u001b[1;34m(self, key)\u001b[0m\n\u001b[0;32m   4094\u001b[0m     \u001b[38;5;28;01mif\u001b[39;00m is_iterator(key):\n\u001b[0;32m   4095\u001b[0m         key \u001b[38;5;241m=\u001b[39m \u001b[38;5;28mlist\u001b[39m(key)\n\u001b[1;32m-> 4096\u001b[0m     indexer \u001b[38;5;241m=\u001b[39m \u001b[38;5;28;43mself\u001b[39;49m\u001b[38;5;241;43m.\u001b[39;49m\u001b[43mcolumns\u001b[49m\u001b[38;5;241;43m.\u001b[39;49m\u001b[43m_get_indexer_strict\u001b[49m\u001b[43m(\u001b[49m\u001b[43mkey\u001b[49m\u001b[43m,\u001b[49m\u001b[43m \u001b[49m\u001b[38;5;124;43m\"\u001b[39;49m\u001b[38;5;124;43mcolumns\u001b[39;49m\u001b[38;5;124;43m\"\u001b[39;49m\u001b[43m)\u001b[49m[\u001b[38;5;241m1\u001b[39m]\n\u001b[0;32m   4098\u001b[0m \u001b[38;5;66;03m# take() does not accept boolean indexers\u001b[39;00m\n\u001b[0;32m   4099\u001b[0m \u001b[38;5;28;01mif\u001b[39;00m \u001b[38;5;28mgetattr\u001b[39m(indexer, \u001b[38;5;124m\"\u001b[39m\u001b[38;5;124mdtype\u001b[39m\u001b[38;5;124m\"\u001b[39m, \u001b[38;5;28;01mNone\u001b[39;00m) \u001b[38;5;241m==\u001b[39m \u001b[38;5;28mbool\u001b[39m:\n",
      "File \u001b[1;32mc:\\Users\\akord\\AppData\\Local\\Programs\\Python\\Python312\\Lib\\site-packages\\pandas\\core\\indexes\\base.py:6200\u001b[0m, in \u001b[0;36mIndex._get_indexer_strict\u001b[1;34m(self, key, axis_name)\u001b[0m\n\u001b[0;32m   6197\u001b[0m \u001b[38;5;28;01melse\u001b[39;00m:\n\u001b[0;32m   6198\u001b[0m     keyarr, indexer, new_indexer \u001b[38;5;241m=\u001b[39m \u001b[38;5;28mself\u001b[39m\u001b[38;5;241m.\u001b[39m_reindex_non_unique(keyarr)\n\u001b[1;32m-> 6200\u001b[0m \u001b[38;5;28;43mself\u001b[39;49m\u001b[38;5;241;43m.\u001b[39;49m\u001b[43m_raise_if_missing\u001b[49m\u001b[43m(\u001b[49m\u001b[43mkeyarr\u001b[49m\u001b[43m,\u001b[49m\u001b[43m \u001b[49m\u001b[43mindexer\u001b[49m\u001b[43m,\u001b[49m\u001b[43m \u001b[49m\u001b[43maxis_name\u001b[49m\u001b[43m)\u001b[49m\n\u001b[0;32m   6202\u001b[0m keyarr \u001b[38;5;241m=\u001b[39m \u001b[38;5;28mself\u001b[39m\u001b[38;5;241m.\u001b[39mtake(indexer)\n\u001b[0;32m   6203\u001b[0m \u001b[38;5;28;01mif\u001b[39;00m \u001b[38;5;28misinstance\u001b[39m(key, Index):\n\u001b[0;32m   6204\u001b[0m     \u001b[38;5;66;03m# GH 42790 - Preserve name from an Index\u001b[39;00m\n",
      "File \u001b[1;32mc:\\Users\\akord\\AppData\\Local\\Programs\\Python\\Python312\\Lib\\site-packages\\pandas\\core\\indexes\\base.py:6249\u001b[0m, in \u001b[0;36mIndex._raise_if_missing\u001b[1;34m(self, key, indexer, axis_name)\u001b[0m\n\u001b[0;32m   6247\u001b[0m \u001b[38;5;28;01mif\u001b[39;00m nmissing:\n\u001b[0;32m   6248\u001b[0m     \u001b[38;5;28;01mif\u001b[39;00m nmissing \u001b[38;5;241m==\u001b[39m \u001b[38;5;28mlen\u001b[39m(indexer):\n\u001b[1;32m-> 6249\u001b[0m         \u001b[38;5;28;01mraise\u001b[39;00m \u001b[38;5;167;01mKeyError\u001b[39;00m(\u001b[38;5;124mf\u001b[39m\u001b[38;5;124m\"\u001b[39m\u001b[38;5;124mNone of [\u001b[39m\u001b[38;5;132;01m{\u001b[39;00mkey\u001b[38;5;132;01m}\u001b[39;00m\u001b[38;5;124m] are in the [\u001b[39m\u001b[38;5;132;01m{\u001b[39;00maxis_name\u001b[38;5;132;01m}\u001b[39;00m\u001b[38;5;124m]\u001b[39m\u001b[38;5;124m\"\u001b[39m)\n\u001b[0;32m   6251\u001b[0m     not_found \u001b[38;5;241m=\u001b[39m \u001b[38;5;28mlist\u001b[39m(ensure_index(key)[missing_mask\u001b[38;5;241m.\u001b[39mnonzero()[\u001b[38;5;241m0\u001b[39m]]\u001b[38;5;241m.\u001b[39munique())\n\u001b[0;32m   6252\u001b[0m     \u001b[38;5;28;01mraise\u001b[39;00m \u001b[38;5;167;01mKeyError\u001b[39;00m(\u001b[38;5;124mf\u001b[39m\u001b[38;5;124m\"\u001b[39m\u001b[38;5;132;01m{\u001b[39;00mnot_found\u001b[38;5;132;01m}\u001b[39;00m\u001b[38;5;124m not in index\u001b[39m\u001b[38;5;124m\"\u001b[39m)\n",
      "\u001b[1;31mKeyError\u001b[0m: \"None of [Index(['Anomalies'], dtype='object')] are in the [columns]\""
     ]
    }
   ],
   "source": [
    "from sklearn.preprocessing import StandardScaler\n",
    "from sklearn.model_selection import train_test_split\n",
    "\n",
    "# Pretpostavimo da se podaci nalaze u stupcu 'Anomalies'\n",
    "X = data[['Anomalies']].values\n",
    "\n",
    "# Normalizacija podataka\n",
    "scaler = StandardScaler()\n",
    "X_normalized = scaler.fit_transform(X)\n",
    "\n",
    "# Podjela podataka na treniranje i testiranje\n",
    "X_train, X_test = train_test_split(X_normalized, test_size=0.2, random_state=42)\n"
   ]
  },
  {
   "cell_type": "code",
   "execution_count": null,
   "metadata": {},
   "outputs": [],
   "source": []
  }
 ],
 "metadata": {
  "kernelspec": {
   "display_name": "Python 3",
   "language": "python",
   "name": "python3"
  },
  "language_info": {
   "codemirror_mode": {
    "name": "ipython",
    "version": 3
   },
   "file_extension": ".py",
   "mimetype": "text/x-python",
   "name": "python",
   "nbconvert_exporter": "python",
   "pygments_lexer": "ipython3",
   "version": "3.12.3"
  }
 },
 "nbformat": 4,
 "nbformat_minor": 2
}
